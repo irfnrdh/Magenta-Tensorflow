{
 "cells": [
  {
   "cell_type": "markdown",
   "metadata": {},
   "source": [
    "Mengecek Library"
   ]
  },
  {
   "cell_type": "code",
   "execution_count": 2,
   "metadata": {},
   "outputs": [
    {
     "name": "stdout",
     "output_type": "stream",
     "text": [
      "Installing dependencies...\n",
      "/bin/sh: apt-get: command not found\n",
      "\u001b[31m  ERROR: Command errored out with exit status 1:\n",
      "   command: /usr/local/opt/python/bin/python3.7 -u -c 'import sys, setuptools, tokenize; sys.argv[0] = '\"'\"'/private/var/folders/b8/yl7k6fsj0439rpql3dv8ps_m0000gp/T/pip-install-i9sq2_jc/greenlet/setup.py'\"'\"'; __file__='\"'\"'/private/var/folders/b8/yl7k6fsj0439rpql3dv8ps_m0000gp/T/pip-install-i9sq2_jc/greenlet/setup.py'\"'\"';f=getattr(tokenize, '\"'\"'open'\"'\"', open)(__file__);code=f.read().replace('\"'\"'\\r\\n'\"'\"', '\"'\"'\\n'\"'\"');f.close();exec(compile(code, __file__, '\"'\"'exec'\"'\"'))' bdist_wheel -d /private/var/folders/b8/yl7k6fsj0439rpql3dv8ps_m0000gp/T/pip-wheel-cxs7f62o --python-tag cp37\n",
      "       cwd: /private/var/folders/b8/yl7k6fsj0439rpql3dv8ps_m0000gp/T/pip-install-i9sq2_jc/greenlet/\n",
      "  Complete output (9 lines):\n",
      "  running bdist_wheel\n",
      "  running build\n",
      "  running build_ext\n",
      "  building 'greenlet' extension\n",
      "  creating build\n",
      "  creating build/temp.macosx-10.14-x86_64-3.7\n",
      "  clang -Wno-unused-result -Wsign-compare -Wunreachable-code -fno-common -dynamic -DNDEBUG -g -fwrapv -O3 -Wall -I/Applications/Xcode.app/Contents/Developer/Platforms/MacOSX.platform/Developer/SDKs/MacOSX10.15.sdk/usr/include -I/Applications/Xcode.app/Contents/Developer/Platforms/MacOSX.platform/Developer/SDKs/MacOSX10.15.sdk/System/Library/Frameworks/Tk.framework/Versions/8.5/Headers -I/usr/local/include -I/usr/local/opt/openssl@1.1/include -I/usr/local/opt/sqlite/include -I/usr/local/Cellar/python/3.7.4_1/Frameworks/Python.framework/Versions/3.7/include/python3.7m -c greenlet.c -o build/temp.macosx-10.14-x86_64-3.7/greenlet.o\n",
      "  xcrun: error: invalid active developer path (/Library/Developer/CommandLineTools), missing xcrun at: /Library/Developer/CommandLineTools/usr/bin/xcrun\n",
      "  error: command 'clang' failed with exit status 1\n",
      "  ----------------------------------------\u001b[0m\n",
      "\u001b[31m  ERROR: Failed building wheel for greenlet\u001b[0m\n",
      "\u001b[31mERROR: tensorflow-gan 2.0.0 has requirement tensorflow-probability>=0.7, but you'll have tensorflow-probability 0.7.0rc0 which is incompatible.\u001b[0m\n",
      "\u001b[31mERROR: tensor2tensor 1.14.1 has requirement tensorflow-probability==0.7.0, but you'll have tensorflow-probability 0.7.0rc0 which is incompatible.\u001b[0m\n",
      "\u001b[31m    ERROR: Command errored out with exit status 1:\n",
      "     command: /usr/local/opt/python/bin/python3.7 -u -c 'import sys, setuptools, tokenize; sys.argv[0] = '\"'\"'/private/var/folders/b8/yl7k6fsj0439rpql3dv8ps_m0000gp/T/pip-install-i9sq2_jc/greenlet/setup.py'\"'\"'; __file__='\"'\"'/private/var/folders/b8/yl7k6fsj0439rpql3dv8ps_m0000gp/T/pip-install-i9sq2_jc/greenlet/setup.py'\"'\"';f=getattr(tokenize, '\"'\"'open'\"'\"', open)(__file__);code=f.read().replace('\"'\"'\\r\\n'\"'\"', '\"'\"'\\n'\"'\"');f.close();exec(compile(code, __file__, '\"'\"'exec'\"'\"'))' install --record /private/var/folders/b8/yl7k6fsj0439rpql3dv8ps_m0000gp/T/pip-record-6gm86jgp/install-record.txt --single-version-externally-managed --compile\n",
      "         cwd: /private/var/folders/b8/yl7k6fsj0439rpql3dv8ps_m0000gp/T/pip-install-i9sq2_jc/greenlet/\n",
      "    Complete output (9 lines):\n",
      "    running install\n",
      "    running build\n",
      "    running build_ext\n",
      "    building 'greenlet' extension\n",
      "    creating build\n",
      "    creating build/temp.macosx-10.14-x86_64-3.7\n",
      "    clang -Wno-unused-result -Wsign-compare -Wunreachable-code -fno-common -dynamic -DNDEBUG -g -fwrapv -O3 -Wall -I/Applications/Xcode.app/Contents/Developer/Platforms/MacOSX.platform/Developer/SDKs/MacOSX10.15.sdk/usr/include -I/Applications/Xcode.app/Contents/Developer/Platforms/MacOSX.platform/Developer/SDKs/MacOSX10.15.sdk/System/Library/Frameworks/Tk.framework/Versions/8.5/Headers -I/usr/local/include -I/usr/local/opt/openssl@1.1/include -I/usr/local/opt/sqlite/include -I/usr/local/Cellar/python/3.7.4_1/Frameworks/Python.framework/Versions/3.7/include/python3.7m -c greenlet.c -o build/temp.macosx-10.14-x86_64-3.7/greenlet.o\n",
      "    xcrun: error: invalid active developer path (/Library/Developer/CommandLineTools), missing xcrun at: /Library/Developer/CommandLineTools/usr/bin/xcrun\n",
      "    error: command 'clang' failed with exit status 1\n",
      "    ----------------------------------------\u001b[0m\n",
      "\u001b[31mERROR: Command errored out with exit status 1: /usr/local/opt/python/bin/python3.7 -u -c 'import sys, setuptools, tokenize; sys.argv[0] = '\"'\"'/private/var/folders/b8/yl7k6fsj0439rpql3dv8ps_m0000gp/T/pip-install-i9sq2_jc/greenlet/setup.py'\"'\"'; __file__='\"'\"'/private/var/folders/b8/yl7k6fsj0439rpql3dv8ps_m0000gp/T/pip-install-i9sq2_jc/greenlet/setup.py'\"'\"';f=getattr(tokenize, '\"'\"'open'\"'\"', open)(__file__);code=f.read().replace('\"'\"'\\r\\n'\"'\"', '\"'\"'\\n'\"'\"');f.close();exec(compile(code, __file__, '\"'\"'exec'\"'\"'))' install --record /private/var/folders/b8/yl7k6fsj0439rpql3dv8ps_m0000gp/T/pip-record-6gm86jgp/install-record.txt --single-version-externally-managed --compile Check the logs for full command output.\u001b[0m\n"
     ]
    }
   ],
   "source": [
    "print('Installing dependencies...')\n",
    "!apt-get update -qq && apt-get install -qq libfluidsynth1 fluid-soundfont-gm build-essential libasound2-dev libjack-dev\n",
    "!pip3 install -qU pyfluidsynth pretty_midi\n",
    "!pip3 install -qU magenta"
   ]
  },
  {
   "cell_type": "code",
   "execution_count": 3,
   "metadata": {},
   "outputs": [
    {
     "ename": "ModuleNotFoundError",
     "evalue": "No module named 'magenta'",
     "output_type": "error",
     "traceback": [
      "\u001b[0;31m---------------------------------------------------------------------------\u001b[0m",
      "\u001b[0;31mModuleNotFoundError\u001b[0m                       Traceback (most recent call last)",
      "\u001b[0;32m<ipython-input-3-49a75f0ee894>\u001b[0m in \u001b[0;36m<module>\u001b[0;34m\u001b[0m\n\u001b[0;32m----> 1\u001b[0;31m \u001b[0;32mimport\u001b[0m \u001b[0mmagenta\u001b[0m\u001b[0;34m.\u001b[0m\u001b[0mmusic\u001b[0m \u001b[0;32mas\u001b[0m \u001b[0mmm\u001b[0m\u001b[0;34m\u001b[0m\u001b[0;34m\u001b[0m\u001b[0m\n\u001b[0m\u001b[1;32m      2\u001b[0m \u001b[0;32mimport\u001b[0m \u001b[0mmagenta\u001b[0m\u001b[0;34m\u001b[0m\u001b[0;34m\u001b[0m\u001b[0m\n\u001b[1;32m      3\u001b[0m \u001b[0;32mimport\u001b[0m \u001b[0mtensorflow\u001b[0m\u001b[0;34m\u001b[0m\u001b[0;34m\u001b[0m\u001b[0m\n\u001b[1;32m      4\u001b[0m \u001b[0;34m\u001b[0m\u001b[0m\n\u001b[1;32m      5\u001b[0m \u001b[0mprint\u001b[0m\u001b[0;34m(\u001b[0m\u001b[0;34m'🎉 Done!'\u001b[0m\u001b[0;34m)\u001b[0m\u001b[0;34m\u001b[0m\u001b[0;34m\u001b[0m\u001b[0m\n",
      "\u001b[0;31mModuleNotFoundError\u001b[0m: No module named 'magenta'"
     ]
    }
   ],
   "source": [
    "import magenta.music as mm\n",
    "import magenta\n",
    "import tensorflow\n",
    "\n",
    "print('🎉 Done!')\n",
    "print(magenta.__version__)\n",
    "print(tensorflow.__version__)"
   ]
  },
  {
   "cell_type": "markdown",
   "metadata": {},
   "source": [
    "Membuat tangga nada dengan NoteSequences"
   ]
  },
  {
   "cell_type": "code",
   "execution_count": null,
   "metadata": {},
   "outputs": [],
   "source": [
    "from magenta.protobuf import music_pb2\n",
    "\n",
    "twinkle_twinkle = music_pb2.NoteSequence()\n",
    "\n",
    "# Add the notes to the sequence.\n",
    "twinkle_twinkle.notes.add(pitch=60, start_time=0.0, end_time=0.5, velocity=80)\n",
    "twinkle_twinkle.notes.add(pitch=60, start_time=0.5, end_time=1.0, velocity=80)\n",
    "twinkle_twinkle.notes.add(pitch=67, start_time=1.0, end_time=1.5, velocity=80)\n",
    "twinkle_twinkle.notes.add(pitch=67, start_time=1.5, end_time=2.0, velocity=80)\n",
    "twinkle_twinkle.notes.add(pitch=69, start_time=2.0, end_time=2.5, velocity=80)\n",
    "twinkle_twinkle.notes.add(pitch=69, start_time=2.5, end_time=3.0, velocity=80)\n",
    "twinkle_twinkle.notes.add(pitch=67, start_time=3.0, end_time=4.0, velocity=80)\n",
    "twinkle_twinkle.notes.add(pitch=65, start_time=4.0, end_time=4.5, velocity=80)\n",
    "twinkle_twinkle.notes.add(pitch=65, start_time=4.5, end_time=5.0, velocity=80)\n",
    "twinkle_twinkle.notes.add(pitch=64, start_time=5.0, end_time=5.5, velocity=80)\n",
    "twinkle_twinkle.notes.add(pitch=64, start_time=5.5, end_time=6.0, velocity=80)\n",
    "twinkle_twinkle.notes.add(pitch=62, start_time=6.0, end_time=6.5, velocity=80)\n",
    "twinkle_twinkle.notes.add(pitch=62, start_time=6.5, end_time=7.0, velocity=80)\n",
    "twinkle_twinkle.notes.add(pitch=60, start_time=7.0, end_time=8.0, velocity=80) \n",
    "twinkle_twinkle.total_time = 8\n",
    "\n",
    "twinkle_twinkle.tempos.add(qpm=60);\n",
    "\n",
    "# This is a colab utility method that visualizes a NoteSequence.\n",
    "mm.plot_sequence(twinkle_twinkle)\n",
    "\n",
    "# This is a colab utility method that plays a NoteSequence.\n",
    "mm.play_sequence(twinkle_twinkle,synth=mm.fluidsynth)\n",
    "\n",
    "# Here's another NoteSequence!\n",
    "teapot = music_pb2.NoteSequence()\n",
    "teapot.notes.add(pitch=69, start_time=0, end_time=0.5, velocity=80)\n",
    "teapot.notes.add(pitch=71, start_time=0.5, end_time=1, velocity=80)\n",
    "teapot.notes.add(pitch=73, start_time=1, end_time=1.5, velocity=80)\n",
    "teapot.notes.add(pitch=74, start_time=1.5, end_time=2, velocity=80)\n",
    "teapot.notes.add(pitch=76, start_time=2, end_time=2.5, velocity=80)\n",
    "teapot.notes.add(pitch=81, start_time=3, end_time=4, velocity=80)\n",
    "teapot.notes.add(pitch=78, start_time=4, end_time=5, velocity=80)\n",
    "teapot.notes.add(pitch=81, start_time=5, end_time=6, velocity=80)\n",
    "teapot.notes.add(pitch=76, start_time=6, end_time=8, velocity=80)\n",
    "teapot.total_time = 8\n",
    "\n",
    "teapot.tempos.add(qpm=60);\n",
    "\n",
    "mm.plot_sequence(teapot)\n",
    "mm.play_sequence(teapot,synth=mm.synthesize)"
   ]
  },
  {
   "cell_type": "code",
   "execution_count": null,
   "metadata": {},
   "outputs": [],
   "source": []
  }
 ],
 "metadata": {
  "kernelspec": {
   "display_name": "Python 3",
   "language": "python",
   "name": "python3"
  },
  "language_info": {
   "codemirror_mode": {
    "name": "ipython",
    "version": 3
   },
   "file_extension": ".py",
   "mimetype": "text/x-python",
   "name": "python",
   "nbconvert_exporter": "python",
   "pygments_lexer": "ipython3",
   "version": "3.7.4"
  }
 },
 "nbformat": 4,
 "nbformat_minor": 2
}
